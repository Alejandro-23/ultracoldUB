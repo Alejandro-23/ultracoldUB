{
 "cells": [
  {
   "cell_type": "markdown",
   "metadata": {},
   "source": [
    "## FFT solver for 1D Gross-Pitaevski equation"
   ]
  },
  {
   "cell_type": "markdown",
   "metadata": {},
   "source": [
    "We look for the complex function $\\psi(x)$ satisfying the GP equation\n",
    "\n",
    "\n",
    "$-\\frac{1}{2}(i\\partial_x - \\Omega)^2\\psi+g|\\psi|^2\\psi = \\mu \\psi$,\n",
    "\n",
    "with periodic boundary conditions."
   ]
  },
  {
   "cell_type": "markdown",
   "metadata": {},
   "source": [
    "Import libraries and general definitions"
   ]
  },
  {
   "cell_type": "code",
   "execution_count": 1,
   "metadata": {
    "collapsed": true
   },
   "outputs": [],
   "source": [
    "import numpy as np\n",
    "import matplotlib.pyplot as plt\n",
    "from scipy.fftpack import fft, ifft\n",
    "from scipy.integrate import odeint\n",
    "import numpy.linalg as lin\n",
    "%matplotlib inline\n",
    "pi=np.pi"
   ]
  },
  {
   "cell_type": "markdown",
   "metadata": {},
   "source": [
    "Data block"
   ]
  },
  {
   "cell_type": "code",
   "execution_count": 2,
   "metadata": {
    "collapsed": false
   },
   "outputs": [],
   "source": [
    "Zmax=2*np.pi;   # Half grid length\n",
    "Npoint=128;   # Number of grid points\n",
    "Nparticle=50; # Number of particles\n",
    "a_s=0.5; # scattering length \n",
    "whoz=1.0; # harmonic oscilator angular frequency\n",
    "#mu=3.27; #Chemical potential\n",
    "#Omega=pi/(2*Zmax); #reference frame velocity"
   ]
  },
  {
   "cell_type": "markdown",
   "metadata": {},
   "source": [
    "Derived quantities"
   ]
  },
  {
   "cell_type": "code",
   "execution_count": 3,
   "metadata": {
    "collapsed": true
   },
   "outputs": [],
   "source": [
    "NormWF=1.0/(2*Zmax); # Wave function (WF) norm\n",
    "gint=2*a_s*Nparticle*NormWF;# nonlinear-term strength\n",
    "Dz=2*Zmax/Npoint;#length step size\n",
    "Dk=pi/Zmax; # momentum step size, maximum wave number is Kmax=Dk*Npoint/2\n",
    "Kmax=Dk*(Npoint//2) # maximum momentum"
   ]
  },
  {
   "cell_type": "markdown",
   "metadata": {},
   "source": [
    "Utilities"
   ]
  },
  {
   "cell_type": "code",
   "execution_count": 4,
   "metadata": {
    "collapsed": false
   },
   "outputs": [],
   "source": [
    "def changeFFTposition(f,N,j):  # change the order in vectors from FFT\n",
    "# f(0...N-1) is the vector to order\n",
    "# N is the vector dimension\n",
    "# j is a switch indicating the change direction\n",
    "# physical order is f=[(-(Zmax-Dz):Dz:-Dz) (0:Dz:Zmax) ]\n",
    "# FFT order is f=[(0:Dk:kmax) (-(kmax-kz):kz:-kz)]\n",
    "    f1 = f*1\n",
    "    if (j==1):  # from physical to FFT order\n",
    "        for i in range(0,N//2-1) : \n",
    "            f1[i] = f[N//2-1+i];\n",
    "            f1[N//2+1+i] = f[i];\n",
    "        f1[N//2-1] = f[N-2];        \n",
    "        f1[N//2] = f[N-1];\n",
    "    elif (j==0): # from FFT to physical order\n",
    "        for i in range(0,N//2-1) : \n",
    "            f1[i] = f[N//2+1+i];\n",
    "            f1[N//2+1+i] = f[i+2];\n",
    "        f1[N//2-1] = f[0];        \n",
    "        f1[N//2] = f[1];        \n",
    "    else:\n",
    "        print(\"error in changeFFTposition(f,N,j): j must be 0 or 1...\")\n",
    "    return f1"
   ]
  },
  {
   "cell_type": "markdown",
   "metadata": {},
   "source": [
    "Grid definitions: physical and momentum space"
   ]
  },
  {
   "cell_type": "code",
   "execution_count": 5,
   "metadata": {
    "collapsed": false
   },
   "outputs": [],
   "source": [
    "z = np.arange(-Zmax+Dz,Zmax+Dz,Dz) # physical (R-space) grid points in ascending order\n",
    "# zp=[(0:Dz:Zmax) (-(Zmax-Dz):Dz:-Dz)]; \n",
    "zp = changeFFTposition(z,Npoint,1) # (R-space) grid points with FFT order\n",
    "#print(\"grid points (K-order): \"); print(zp)\n",
    "#print(\" R-order: \"); print(z)\n",
    "#\n",
    "# kp=[(0:Dk:Kmax) (-(Kmax-Dk):Dk:-Dk)]; # grid points (K-space), FFT order\n",
    "kp = np.arange(-Kmax+Dk,Kmax+Dk,Dk)\n",
    "kp = changeFFTposition(kp,Npoint,1)\n",
    "#print(\"momentum values: \"); print(kp)"
   ]
  },
  {
   "cell_type": "markdown",
   "metadata": {},
   "source": [
    "Define operators"
   ]
  },
  {
   "cell_type": "code",
   "execution_count": 6,
   "metadata": {
    "collapsed": false
   },
   "outputs": [],
   "source": [
    "Ekin_K = 0.5*(kp**2); # Kinetic energy in K space\n",
    "# print(\"Ekin: \"); print(Ekin_K)\n",
    "Vpot_R = 0.5*whoz*zp**2; # Potential energy in R space\n",
    "# print(\"Vpot: \"); print(Vpot_R)    "
   ]
  },
  {
   "cell_type": "markdown",
   "metadata": {},
   "source": [
    "Main functions"
   ]
  },
  {
   "cell_type": "code",
   "execution_count": 7,
   "metadata": {
    "collapsed": false
   },
   "outputs": [],
   "source": [
    "def Energy(c): # Energy calculation\n",
    "    global gint, Vpot_R, Ekin_K, Npoint\n",
    "    ek = sum(Ekin_K*abs(c)**2) # Kinetic energy in K\n",
    "    psi = ifft(c)*Npoint; # wf FFT to R\n",
    "    ep = sum(Vpot_R*abs(psi)**2)/Npoint; # Potential energy\n",
    "    ei = 0.5*gint*sum(abs(psi)**4)/Npoint; # Interaction energy\n",
    "    em =  ek+ep+ei;\n",
    "    chem_pot = em+ei;\n",
    "    return em, chem_pot, ek, ep, ei\n",
    "#\n",
    "def H1DGP(cr,t,tau): # time evolution operator so that: \\partial_t psi  = -i H1DGP psi\n",
    "    global gint, Vpot_R, Ekin_K, Npoint\n",
    "    #\n",
    "    # cr is the wave function psi in K3 written as a real vector: cr=[psi.real psi.imag]\n",
    "    # t is the time (which is not used if H)\n",
    "    # tau is the imaginary time \n",
    "    #\n",
    "    [c1,c2]=np.split(cr, 2) # turn to complex variables\n",
    "    c=c1+1j*c2\n",
    "    psi = ifft(c)*Npoint; # FFT to R3\n",
    "    HRpsi = (Vpot_R+gint*(abs(psi)**2))*psi; # evolution Epot+Eint in R3\n",
    "    HKpsi = fft(HRpsi)/Npoint; # + FFT to K3\n",
    "    if (tau!=0.0): \n",
    "        c = -tau *( Ekin_K*c + HKpsi )\n",
    "    else:\n",
    "        c = -1j *( Ekin_K*c + HKpsi )\n",
    "    return np.concatenate([c.real,c.imag])\n",
    "#\n",
    "def gaussian(x,n,x0,w): # gaussian wf in  K3\n",
    "    fx = np.pi**0.25*np.exp(-0.5*((x-x0)/w)**2); # gausian in R3\n",
    "    return fft(fx)/n;  # FFT to K3\n",
    "#\n",
    "def normaliza(c): # normalization to 1\n",
    "    norm = lin.norm(c)\n",
    "    if ((norm-1.0)>1.0e-4): # check norm\n",
    "        print(\"normalization from: \",norm)\n",
    "    return c/norm"
   ]
  },
  {
   "cell_type": "markdown",
   "metadata": {
    "collapsed": false
   },
   "source": [
    "Choose initial wafe function and evolve in time"
   ]
  },
  {
   "cell_type": "code",
   "execution_count": 8,
   "metadata": {
    "collapsed": false
   },
   "outputs": [
    {
     "name": "stdout",
     "output_type": "stream",
     "text": [
      "Energies:          Emed    mu    Ekin    Epot    Eint\n",
      "         initial = 10.4736 20.4471 0.25 0.25 9.97356\n",
      "         final   = 5.39137 8.92526 0.0494713 1.808 3.53389\n",
      "Energy change at last step  = -3.06871e-09\n"
     ]
    }
   ],
   "source": [
    "# initial wf: Gaussian centered at x=0 and width=1\n",
    "c0=normaliza(gaussian(zp,Npoint,0,1)); # wf at t=0\n",
    "# evolve in time: parameters\n",
    "t0=0.0 \n",
    "evolution_time=25.0\n",
    "Nstep = 5000; # number of intermediate steps with outputs\n",
    "tevol=np.empty([Nstep+1]) # time vector\n",
    "energy_cicle=np.empty([Nstep+1,5]) # put the energies in a matrix\n",
    "energy_cicle[0,:] = Energy(c0) # Energies at t=0\n",
    "print(\"Energies:          Emed    mu    Ekin    Epot    Eint\")\n",
    "print(\"         initial = %g %g %g %g %g\"%(Energy(c0)))\n",
    "# print(\"$\\psi(t=0)$: \"); print(ct) \n",
    "c0r=np.concatenate([c0.real,c0.imag]) # prepare real vector for odeint\n",
    "tevol[0]=t0\n",
    "Dt = evolution_time/(1.0*Nstep)\n",
    "Dtint=[0, Dt]\n",
    "tau = 0.1 # imaginary time\n",
    "for i in range(1, Nstep+1): # time evolution cicle\n",
    "    tevol[i] = tevol[i-1] + Dt\n",
    "    ctr = odeint(H1DGP,c0r,Dtint,args=(tau,)); # calculate ctr(t)\n",
    "    [c1r,c2r]=np.split(ctr[1,:], 2)\n",
    "    c = normaliza(c1r+1j*c2r); # check norm in the wf\n",
    "    energy_cicle[i,:] = Energy(c)\n",
    "    c0r=np.concatenate([c.real,c.imag])\n",
    "print(\"         final   = %g %g %g %g %g\"%(Energy(c))) # check energies\n",
    "print(\"Energy change at last step  = %g\"%(energy_cicle[Nstep,0]-energy_cicle[Nstep-1,0]))"
   ]
  },
  {
   "cell_type": "markdown",
   "metadata": {},
   "source": [
    "Plot convergence during the evolution in the average energy per particle"
   ]
  },
  {
   "cell_type": "code",
   "execution_count": 9,
   "metadata": {
    "collapsed": false,
    "scrolled": true
   },
   "outputs": [
    {
     "data": {
      "text/plain": [
       "[<matplotlib.lines.Line2D at 0x7fc85dc7fd30>]"
      ]
     },
     "execution_count": 9,
     "metadata": {},
     "output_type": "execute_result"
    },
    {
     "data": {
      "image/png": "[encoded data removed]",
      "text/plain": [
       "<matplotlib.figure.Figure at 0x7fc85ffd7d68>"
      ]
     },
     "metadata": {},
     "output_type": "display_data"
    }
   ],
   "source": [
    "plt.title('Convergence',fontsize=15)\n",
    "plt.xlabel('time ($t \\, \\\\omega_{ho}$)',fontsize=15)\n",
    "plt.ylabel('Energy per particle ($E/\\\\hbar \\,\\\\omega_{ho}$)',fontsize=15)\n",
    "#plt.axis([-Zmax,Zmax,0, 8])\n",
    "plt.xticks(np.arange(0, tevol[Nstep]+1,tevol[Nstep]/5))\n",
    "plt.locator_params('y',nbins=3)\n",
    "plt.plot(tevol, energy_cicle[:,0], 'r-')\n",
    "#plt.plot(z, psi, 'r.')"
   ]
  },
  {
   "cell_type": "markdown",
   "metadata": {},
   "source": [
    "Plot the final density (or wave function)"
   ]
  },
  {
   "cell_type": "code",
   "execution_count": 10,
   "metadata": {
    "collapsed": false,
    "scrolled": true
   },
   "outputs": [
    {
     "data": {
      "text/plain": [
       "<matplotlib.legend.Legend at 0x7fc85d6b4e80>"
      ]
     },
     "execution_count": 10,
     "metadata": {},
     "output_type": "execute_result"
    },
    {
     "data": {
      "image/png": "[encoded data removed]",
      "text/plain": [
       "<matplotlib.figure.Figure at 0x7fc85d6b4940>"
      ]
     },
     "metadata": {},
     "output_type": "display_data"
    }
   ],
   "source": [
    "cc = ifft(c)*Npoint*NormWF**0.5 # FFT from K3 to R3 and include the wf norm\n",
    "psi = changeFFTposition(cc,Npoint,0) # psi is the final wave function\n",
    "# plot features\n",
    "plt.title('Final state at $t \\,\\\\omega_{ho}=%g$'%(tevol[Nstep]),fontsize=15)\n",
    "plt.xlabel('$x/a_{ho}$',fontsize=15)\n",
    "#plt.ylabel('$\\\\psi\\,(x)$',fontsize=15)\n",
    "#plt.axis([-Zmax,Zmax,0, 8])\n",
    "plt.xticks(np.arange(-Zmax, Zmax+1,Zmax/2))\n",
    "plt.locator_params('y',nbins=3)\n",
    "#plt.plot(z, psi.real, 'r.',label='real$(\\psi)$')\n",
    "#plt.plot(z, psi.imag, 'b--',label='imag$(\\psi)$')\n",
    "plt.plot(z, abs(psi)**2, 'b--',label='$|\\psi|^2$') # plot density\n",
    "plt.legend(fontsize=15)"
   ]
  },
  {
   "cell_type": "code",
   "execution_count": null,
   "metadata": {
    "collapsed": true
   },
   "outputs": [],
   "source": []
  }
 ],
 "metadata": {
  "kernelspec": {
   "display_name": "Python 3",
   "language": "python",
   "name": "python3"
  },
  "language_info": {
   "codemirror_mode": {
    "name": "ipython",
    "version": 3
   },
   "file_extension": ".py",
   "mimetype": "text/x-python",
   "name": "python",
   "nbconvert_exporter": "python",
   "pygments_lexer": "ipython3",
   "version": "3.5.1"
  }
 },
 "nbformat": 4,
 "nbformat_minor": 0
}
