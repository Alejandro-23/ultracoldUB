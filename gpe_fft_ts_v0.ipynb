{
 "cells": [
  {
   "cell_type": "markdown",
   "metadata": {},
   "source": [
    "## FFT solver for 1D Gross-Pitaevski equation"
   ]
  },
  {
   "cell_type": "markdown",
   "metadata": {},
   "source": [
    "We look for the complex function $\\psi(x)$ satisfying the GP equation\n",
    "\n",
    "$ i\\partial_t \\psi = -\\frac{1}{2}(i\\partial_x - \\Omega)^2\\psi+ V(x)\\psi + g|\\psi|^2\\psi $,\n",
    "\n",
    "with periodic boundary conditions.\n",
    "\n",
    "Integration: pseudospectral method with split (time evolution) operator; \n",
    "that is evolving in real (R) or momentum (K) space according to the operators\n",
    "in the Hamiltonian, i.e.\n",
    "first we evaluate\n",
    "\n",
    "$\\hat{\\psi}(x,\\frac{t}{2})=\\cal{F}^{-1}\\left[\\exp\\left(-i \\frac{\\hbar^2 k^2}{2} \\frac{t}{2}\\right)\\,\\psi(k,0)\\right] $\n",
    "\n",
    "and later\n",
    "\n",
    "$\\psi(k,t) = \\exp(-i \\frac{\\hbar^2 k^2}{2} \\frac{t}{2})\\, \n",
    "\\cal{F}\\left[\\exp\\left(-i (V(x)+|\\hat{\\psi}(x,\\frac{t}{2})|^2)\\, t \\right)\\,\\hat{\\psi}(x,\\frac{t}{2}) \\,\n",
    "\\right]$\n",
    "\n",
    "where $\\cal{F}$ is the Fourier transform.\n",
    "_______________________________________________________________________________\n",
    "_______________________________________________________________________________"
   ]
  },
  {
   "cell_type": "markdown",
   "metadata": {},
   "source": [
    "Import libraries and general definitions\n",
    "-------------------------------------------------------------------------------"
   ]
  },
  {
   "cell_type": "code",
   "execution_count": 1,
   "metadata": {
    "collapsed": false
   },
   "outputs": [],
   "source": [
    "import numpy as np\n",
    "import matplotlib.pyplot as plt\n",
    "from scipy.fftpack import fft, ifft\n",
    "from scipy.integrate import odeint\n",
    "import numpy.linalg as lin\n",
    "# comment next line to export as a python shell \n",
    "%matplotlib inline         \n",
    "pi=np.pi"
   ]
  },
  {
   "cell_type": "markdown",
   "metadata": {},
   "source": [
    "Data block\n",
    "--------------------------------------------------------------------------------"
   ]
  },
  {
   "cell_type": "code",
   "execution_count": 2,
   "metadata": {
    "collapsed": false
   },
   "outputs": [
    {
     "name": "stdout",
     "output_type": "stream",
     "text": [
      "Initial data:\n",
      " Number of particles = 50\n",
      " Harmonic oscillator angular frequency = 1\n",
      " Domain half length = 6.28319\n",
      " Number of grid points = 128\n",
      " Scattering length = 0.5\n",
      " Total time of evolution = 10\n",
      " Real time step = 0.001\n",
      " Imaginary time = 0.001\n",
      " Intermediate solutions = 99\n"
     ]
    }
   ],
   "source": [
    "Zmax = 2*pi      # Grid half length\n",
    "Npoint = 128     # Number of grid points\n",
    "Nparticle = 50   # Number of particles\n",
    "a_s = 0.5        # scattering length \n",
    "whoz = 1.0       # harmonic oscilator angular frequency\n",
    "Omega = pi/(2*Zmax)    # reference frame velocity\n",
    "Ntime_fin = 10000       # total number of time steps\n",
    "Ntime_out = 100       # number of time steps for intermediate outputs\n",
    "Dtr = 1.0e-3           # real time step\n",
    "Dti = 1.0e-3           # imaginary time step\n",
    "#\n",
    "# print evolution data:\n",
    "#\n",
    "print(\"Initial data:\")\n",
    "print(\" Number of particles = %g\"%(Nparticle))\n",
    "print(\" Harmonic oscillator angular frequency = %g\"%(whoz))\n",
    "print(\" Domain half length = %g\"%(Zmax))\n",
    "print(\" Number of grid points = %g\"%(Npoint))\n",
    "print(\" Scattering length = %g\"%(a_s))\n",
    "print(\" Total time of evolution = %g\"%(Ntime_fin*Dtr))\n",
    "print(\" Real time step = %g\"%(Dtr))\n",
    "print(\" Imaginary time = %g\"%(Dti))\n",
    "print(\" Intermediate solutions = %g\"%(Ntime_fin/Ntime_out-1))"
   ]
  },
  {
   "cell_type": "markdown",
   "metadata": {},
   "source": [
    "Derived quantities\n",
    "-------------------------------------------------------------------------------------"
   ]
  },
  {
   "cell_type": "code",
   "execution_count": 3,
   "metadata": {
    "collapsed": true
   },
   "outputs": [],
   "source": [
    "NormWF = 1.0/(2*Zmax)           # Wave function (WF) norm\n",
    "gint = 2*a_s*Nparticle*NormWF   # interaction (nonlinear-term) strength\n",
    "Dz = 2*Zmax/Npoint              # length step size\n",
    "Dk = pi/Zmax            # momentum step size\n",
    "Kmax = Dk*(Npoint//2)   # maximum momentum\n",
    "Dt = Dtr-1j*Dti         # complex time\n",
    "Ninter = Ntime_fin/Ntime_out # Number of outputs with the intermediate states"
   ]
  },
  {
   "cell_type": "markdown",
   "metadata": {},
   "source": [
    "Utilities\n",
    "-------------------------------------------------------------------------------------"
   ]
  },
  {
   "cell_type": "code",
   "execution_count": 4,
   "metadata": {
    "collapsed": false
   },
   "outputs": [],
   "source": [
    "def changeFFTposition(f,N,j):  # change the order in vectors from FFT\n",
    "#    \n",
    "# f(0...N-1) is the vector to order\n",
    "# N is the vector dimension\n",
    "# j is a switch indicating the change direction\n",
    "# physical order is f=[(-(Zmax-Dz):Dz:-Dz) (0:Dz:Zmax) ]\n",
    "# FFT order is f=[(0:Dk:kmax) (-(kmax-kz):kz:-kz)]\n",
    "#\n",
    "    f1 = f*1\n",
    "    if (j==1):  # from physical to FFT order\n",
    "        for i in range(0,N//2-1) : \n",
    "            f1[i] = f[N//2-1+i];\n",
    "            f1[N//2+1+i] = f[i];\n",
    "        f1[N//2-1] = f[N-2];        \n",
    "        f1[N//2] = f[N-1];\n",
    "    elif (j==0): # from FFT to physical order\n",
    "        for i in range(0,N//2-1) : \n",
    "            f1[i] = f[N//2+1+i];\n",
    "            f1[N//2+1+i] = f[i+2];\n",
    "        f1[N//2-1] = f[0];        \n",
    "        f1[N//2] = f[1];        \n",
    "    else:\n",
    "        print(\"error in changeFFTposition(f,N,j): j must be 0 or 1...\")\n",
    "    return f1"
   ]
  },
  {
   "cell_type": "markdown",
   "metadata": {},
   "source": [
    "Grid definitions: physical and momentum space\n",
    "---------------------------------------------------------------------------------------"
   ]
  },
  {
   "cell_type": "code",
   "execution_count": 5,
   "metadata": {
    "collapsed": false
   },
   "outputs": [],
   "source": [
    "z = np.arange(-Zmax+Dz,Zmax+Dz,Dz) # physical (R-space) grid points in ascending order\n",
    "# zp=[(0:Dz:Zmax) (-(Zmax-Dz):Dz:-Dz)]; \n",
    "zp = changeFFTposition(z,Npoint,1) # (R-space) grid points with FFT order\n",
    "#print(\"grid points (K-order): \"); print(zp)\n",
    "#print(\" R-order: \"); print(z)\n",
    "#\n",
    "# kp=[(0:Dk:Kmax) (-(Kmax-Dk):Dk:-Dk)]; # grid points (K-space), FFT order\n",
    "kp = np.arange(-Kmax+Dk,Kmax+Dk,Dk)\n",
    "kp = changeFFTposition(kp,Npoint,1)\n",
    "#print(\"momentum values: \"); print(kp)"
   ]
  },
  {
   "cell_type": "markdown",
   "metadata": {},
   "source": [
    "Define operators\n",
    "---------------------------------------------------------------------------------------"
   ]
  },
  {
   "cell_type": "code",
   "execution_count": 6,
   "metadata": {
    "collapsed": false
   },
   "outputs": [],
   "source": [
    "Ekin_K = 0.5*(kp**2)            # Kinetic energy in K space\n",
    "T_K = np.exp(-1j*0.5*Dt*Ekin_K)    # time evolution operator in K space (for second order accuracy)\n",
    "# print(\"Ekin: \"); print(Ekin_K)\n",
    "#\n",
    "# Potential energy in R space:\n",
    "# Harmonic oscillator with angular frequency whoz:\n",
    "Vpot_R = 0.5*whoz*zp**2;  \n",
    "# print(\"Vpot: \"); print(Vpot_R)    "
   ]
  },
  {
   "cell_type": "markdown",
   "metadata": {},
   "source": [
    "Main functions\n",
    "________________________________________________________________________________________"
   ]
  },
  {
   "cell_type": "code",
   "execution_count": 7,
   "metadata": {
    "collapsed": false
   },
   "outputs": [],
   "source": [
    "def Energy(c): # Energy (per particle) calculation\n",
    "    global gint, Vpot_R, Ekin_K, Npoint\n",
    "    ek = sum(Ekin_K*abs(c)**2)              # Kinetic energy in K\n",
    "    psi = ifft(c)*Npoint;                   # wf FFT to R\n",
    "    ep = sum(Vpot_R*abs(psi)**2)/Npoint;    # Potential energy\n",
    "    ei = 0.5*gint*sum(abs(psi)**4)/Npoint;  # Interaction energy\n",
    "    em =  ek+ep+ei;                         # average energy\n",
    "    chem_pot = em+ei;                       # chemical potential\n",
    "    return em, chem_pot, ek, ep, ei\n",
    "#\n",
    "def T_R_psi(t,Dt,psi): # Action of the time evolution operator over state c in R space\n",
    "    global gint, Vpot_R\n",
    "    # Includes the external potential and the interaction operators:\n",
    "    #       T_R_psi = exp(-i Dt (Vpot_R+ gint|psi|^2) ) c    \n",
    "    # psi is the wave function in R space\n",
    "    # t is the time (which is not used for time independant Hamiltonians)\n",
    "    # Dt is the complex time step \n",
    "    #\n",
    "    return np.exp( -1j*Dt*(Vpot_R + gint*(abs(psi)**2)) )*psi    # return action on psi\n",
    "#\n",
    "def gaussian(x,n,x0,w): # Gaussian wf in  K3\n",
    "    fx = np.pi**0.25*np.exp(-0.5*((x-x0)/w)**2); # define the Gaussian in R3\n",
    "    return fft(fx)/n;   # FFT to K3\n",
    "#\n",
    "def normaliza(c): # normalization to 1\n",
    "    norm = lin.norm(c)\n",
    "    if ((norm-1.0)>1.0e-4): # check norm\n",
    "        print(\"normalization from: \",norm)\n",
    "    return c/norm"
   ]
  },
  {
   "cell_type": "markdown",
   "metadata": {
    "collapsed": false
   },
   "source": [
    "Choose initial wafe function and evolve in time\n",
    "__________________________________________________________________________________________"
   ]
  },
  {
   "cell_type": "code",
   "execution_count": 8,
   "metadata": {
    "collapsed": false
   },
   "outputs": [
    {
     "name": "stderr",
     "output_type": "stream",
     "text": [
      "/home/mva/anaconda3/lib/python3.5/site-packages/ipykernel/__main__.py:5: DeprecationWarning: using a non-integer number instead of an integer will result in an error in the future\n",
      "/home/mva/anaconda3/lib/python3.5/site-packages/ipykernel/__main__.py:6: DeprecationWarning: using a non-integer number instead of an integer will result in an error in the future\n"
     ]
    },
    {
     "name": "stdout",
     "output_type": "stream",
     "text": [
      "Energies:          Emed    mu    Ekin    Epot    Eint\n",
      "         initial = 10.4736 20.4471 0.25 0.25 9.97356\n",
      "         final   = 5.39136 8.91971 0.0493316 1.81367 3.52835\n",
      "Energy change at last step  = -1.82104e-08\n"
     ]
    },
    {
     "name": "stderr",
     "output_type": "stream",
     "text": [
      "/home/mva/anaconda3/lib/python3.5/site-packages/ipykernel/__main__.py:25: DeprecationWarning: using a non-integer number instead of an integer will result in an error in the future\n"
     ]
    }
   ],
   "source": [
    "# initial wf: Gaussian centered at x=0 and width=1\n",
    "c0=normaliza(gaussian(zp,Npoint,0,1)); # wf at t=0\n",
    "# evolve in time: parameters\n",
    "t0=0.0 \n",
    "tevol=np.empty([Ninter+1]) # time vector\n",
    "energy_cicle=np.empty([Ninter+1,5]) # put the energies in a matrix\n",
    "energy_cicle[0,:] = Energy(c0) # Energies at t=0\n",
    "print(\"Energies:          Emed    mu    Ekin    Epot    Eint\")\n",
    "print(\"         initial = %g %g %g %g %g\"%(Energy(c0)))\n",
    "# print(\"$\\psi(t=0)$: \"); print(ct) \n",
    "c=c0\n",
    "tevol[0]=t0\n",
    "j=0\n",
    "t=0\n",
    "for i in range(1, Ntime_fin+1): # time evolution cicle  \n",
    "    t += Dt.real\n",
    "    psi=ifft(T_K*c)*Npoint\n",
    "    c=T_K*fft(T_R_psi(t0,Dt,psi))/Npoint\n",
    "    c = normaliza(c); # check norm in the wf\n",
    "    if(not(i%Ntime_out)):\n",
    "        j+=1\n",
    "        tevol[j] = t\n",
    "        energy_cicle[j,:] = Energy(c)\n",
    "print(\"         final   = %g %g %g %g %g\"%(Energy(c))) # check energies\n",
    "print(\"Energy change at last step  = %g\"%(energy_cicle[Ninter,0]-energy_cicle[Ninter-1,0]))"
   ]
  },
  {
   "cell_type": "markdown",
   "metadata": {},
   "source": [
    "Plot convergence during the evolution in the average energy per particle"
   ]
  },
  {
   "cell_type": "code",
   "execution_count": 10,
   "metadata": {
    "collapsed": false,
    "scrolled": true
   },
   "outputs": [
    {
     "name": "stderr",
     "output_type": "stream",
     "text": [
      "/home/mva/anaconda3/lib/python3.5/site-packages/ipykernel/__main__.py:6: DeprecationWarning: using a non-integer number instead of an integer will result in an error in the future\n",
      "/home/mva/anaconda3/lib/python3.5/site-packages/matplotlib/figure.py:397: UserWarning: matplotlib is currently using a non-GUI backend, so cannot show the figure\n",
      "  \"matplotlib is currently using a non-GUI backend, \"\n"
     ]
    },
    {
     "data": {
      "image/png": "[encoded data removed]",
      "text/plain": [
       "<matplotlib.figure.Figure at 0x7fec5a369940>"
      ]
     },
     "metadata": {},
     "output_type": "display_data"
    }
   ],
   "source": [
    "f1=plt.figure()\n",
    "plt.title('Convergence',fontsize=15)\n",
    "plt.xlabel('time ($t \\, \\\\omega_{ho}$)',fontsize=15)\n",
    "plt.ylabel('Energy per particle ($E/\\\\hbar \\,\\\\omega_{ho}$)',fontsize=15)\n",
    "#plt.axis([-Zmax,Zmax,0, 8])\n",
    "plt.xticks(np.arange(0, tevol[Ninter]+1,tevol[Ninter]/5))\n",
    "plt.locator_params('y',nbins=3)\n",
    "plt.plot(tevol, energy_cicle[:,0], 'r-')\n",
    "#plt.plot(z, psi, 'r.')\n",
    "f1.show()"
   ]
  },
  {
   "cell_type": "markdown",
   "metadata": {},
   "source": [
    "Plot the final density (or wave function)"
   ]
  },
  {
   "cell_type": "code",
   "execution_count": 11,
   "metadata": {
    "collapsed": false,
    "scrolled": true
   },
   "outputs": [
    {
     "name": "stderr",
     "output_type": "stream",
     "text": [
      "/home/mva/anaconda3/lib/python3.5/site-packages/ipykernel/__main__.py:5: DeprecationWarning: using a non-integer number instead of an integer will result in an error in the future\n",
      "/home/mva/anaconda3/lib/python3.5/site-packages/matplotlib/figure.py:397: UserWarning: matplotlib is currently using a non-GUI backend, so cannot show the figure\n",
      "  \"matplotlib is currently using a non-GUI backend, \"\n"
     ]
    },
    {
     "data": {
      "image/png": "[encoded data removed]",
      "text/plain": [
       "<matplotlib.figure.Figure at 0x7fec5823c828>"
      ]
     },
     "metadata": {},
     "output_type": "display_data"
    }
   ],
   "source": [
    "cc = ifft(c)*Npoint*NormWF**0.5 # FFT from K3 to R3 and include the wf norm\n",
    "psi = changeFFTposition(cc,Npoint,0) # psi is the final wave function\n",
    "# plot features\n",
    "f2=plt.figure()\n",
    "plt.title('Final state at $t \\,\\\\omega_{ho}=%g$'%(tevol[Ninter]),fontsize=15)\n",
    "plt.xlabel('$x/a_{ho}$',fontsize=15)\n",
    "#plt.ylabel('$\\\\psi\\,(x)$',fontsize=15)\n",
    "#plt.axis([-Zmax,Zmax,0, 8])\n",
    "plt.xticks(np.arange(-Zmax, Zmax+1,Zmax/2))\n",
    "plt.locator_params('y',nbins=3)\n",
    "#plt.plot(z, psi.real, 'r.',label='real$(\\psi)$')\n",
    "#plt.plot(z, psi.imag, 'b--',label='imag$(\\psi)$')\n",
    "plt.plot(z, abs(psi)**2, 'b--',label='$|\\psi|^2$') # plot density\n",
    "plt.legend(fontsize=15)\n",
    "f2.show()"
   ]
  },
  {
   "cell_type": "code",
   "execution_count": null,
   "metadata": {
    "collapsed": true
   },
   "outputs": [],
   "source": []
  }
 ],
 "metadata": {
  "kernelspec": {
   "display_name": "Python 3",
   "language": "python",
   "name": "python3"
  },
  "language_info": {
   "codemirror_mode": {
    "name": "ipython",
    "version": 3
   },
   "file_extension": ".py",
   "mimetype": "text/x-python",
   "name": "python",
   "nbconvert_exporter": "python",
   "pygments_lexer": "ipython3",
   "version": "3.5.1"
  }
 },
 "nbformat": 4,
 "nbformat_minor": 0
}
